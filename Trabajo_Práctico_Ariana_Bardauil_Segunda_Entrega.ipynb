{
  "cells": [
    {
      "attachments": {},
      "cell_type": "markdown",
      "metadata": {
        "id": "Wyauo038z5Xm"
      },
      "source": [
        "# Trabajo Práctico"
      ]
    },
    {
      "attachments": {},
      "cell_type": "markdown",
      "metadata": {
        "id": "gu1jSHGnc_me"
      },
      "source": [
        "## Analizando información de egresados universitarios\n",
        "\n",
        "Graduados universitarios del sistema Araucano (2016-2018)\n",
        "\n",
        "Base de datos que contiene, para el período 2019-2021, información sociolaboral de un conjunto de graduados de carreras universitarias de universidades argentinas entre 2016 y 2018.\n",
        "\n",
        "https://www.datos.gob.ar/dataset/produccion-graduados-universitarios-sistema-araucano-2016-2018"
      ]
    },
    {
      "attachments": {},
      "cell_type": "markdown",
      "metadata": {
        "id": "GyNR9q72-NLm"
      },
      "source": [
        "### Leer la base y descriptivas"
      ]
    },
    {
      "attachments": {},
      "cell_type": "markdown",
      "metadata": {
        "id": "Hri3E8Qn0Opd"
      },
      "source": [
        "Importar las librerías a utilizar: NumPy, Pandas y Matplotlib."
      ]
    },
    {
      "cell_type": "code",
      "execution_count": 1,
      "metadata": {
        "id": "F0GdQr8_dAH3"
      },
      "outputs": [],
      "source": [
        "import numpy as np\n",
        "import pandas as pd\n",
        "import matplotlib.pyplot as plt"
      ]
    },
    {
      "attachments": {},
      "cell_type": "markdown",
      "metadata": {
        "id": "x_PhriVL2VRq"
      },
      "source": [
        "Leer el archivo base_araucano.csv. Observar las primeras 5 filas."
      ]
    },
    {
      "cell_type": "code",
      "execution_count": 2,
      "metadata": {
        "colab": {
          "base_uri": "https://localhost:8080/"
        },
        "id": "QltqjUKLZjLc",
        "outputId": "2693da24-3631-49f4-cd09-69f18a432b46"
      },
      "outputs": [
        {
          "name": "stdout",
          "output_type": "stream",
          "text": [
            "   id  rama_id  disciplina_id  tipo_titulo_id  gestion_id  genero_id  \\\n",
            "0   1        1              1               4           1          1   \n",
            "1   1        1              1               4           1          1   \n",
            "2   1        1              1               4           1          1   \n",
            "3   2        1              1               4           1          1   \n",
            "4   2        1              1               4           1          1   \n",
            "\n",
            "   region_id  tamaño_id  letra_id  salario  anio  anioegreso  anionac  \n",
            "0          1        NaN       NaN      NaN  2019        2017   1976.0  \n",
            "1          1        NaN       NaN      NaN  2020        2017   1976.0  \n",
            "2          1        NaN       NaN      NaN  2021        2017   1976.0  \n",
            "3          2        NaN       NaN      NaN  2019        2018   1980.0  \n",
            "4          2        NaN       NaN      NaN  2020        2018   1980.0  \n"
          ]
        }
      ],
      "source": [
        "\n",
        "df = pd.read_csv('base_araucano.csv')\n",
        "\n",
        "print(df.head(5))\n",
        "\n"
      ]
    },
    {
      "attachments": {},
      "cell_type": "markdown",
      "metadata": {
        "id": "mKh7CzBV4pPx"
      },
      "source": [
        "Observar las columnas que contiene."
      ]
    },
    {
      "cell_type": "code",
      "execution_count": 3,
      "metadata": {
        "colab": {
          "base_uri": "https://localhost:8080/"
        },
        "id": "hIzjA-l5diLN",
        "outputId": "f76d7d2e-a196-4c28-ccf8-ff7208dd76d2"
      },
      "outputs": [
        {
          "data": {
            "text/plain": [
              "Index(['id', 'rama_id', 'disciplina_id', 'tipo_titulo_id', 'gestion_id',\n",
              "       'genero_id', 'region_id', 'tamaño_id', 'letra_id', 'salario', 'anio',\n",
              "       'anioegreso', 'anionac'],\n",
              "      dtype='object')"
            ]
          },
          "execution_count": 3,
          "metadata": {},
          "output_type": "execute_result"
        }
      ],
      "source": [
        "df.columns"
      ]
    },
    {
      "attachments": {},
      "cell_type": "markdown",
      "metadata": {
        "id": "1Xnu3Jeh43EY"
      },
      "source": [
        "¿Cuál es el tamaño del dataframe? "
      ]
    },
    {
      "cell_type": "code",
      "execution_count": 4,
      "metadata": {
        "colab": {
          "base_uri": "https://localhost:8080/"
        },
        "id": "IfJ358lznG41",
        "outputId": "a7ac2a0a-df25-44d8-c6b8-43852f5cba3a"
      },
      "outputs": [
        {
          "data": {
            "text/plain": [
              "(820335, 13)"
            ]
          },
          "execution_count": 4,
          "metadata": {},
          "output_type": "execute_result"
        }
      ],
      "source": [
        "df.shape\n",
        "\n",
        "# El tamaño del df es de 753827 filas y 13 columnas"
      ]
    },
    {
      "attachments": {},
      "cell_type": "markdown",
      "metadata": {
        "id": "GsGkHBZW0hSh"
      },
      "source": [
        "Esta base viene acompañada de un diccionario de variables y de una [metodología](https://datos.produccion.gob.ar/dataset/46df1ebe-d0bb-49a1-96dd-fe9751930682/resource/a2b14e98-9874-4b2a-b641-cdba6676de45/download/metodologia-araucano-da.pdf). \n",
        "\n",
        "En la metodología dice: \"Cada fila es una persona graduada en 2016-2018 con su situación laboral en noviembre de 2019, 2020 y 2021. De tal modo, cada persona aparece tres veces en la base.\"\n",
        "\n",
        "Para no trabajar con observaciones duplicadas, vamos a observar solamente los datos de situación laboral de 2021. Para eso cree un nuevo dataframe filtrando solo los datos de ese año, utilizando la columna anio."
      ]
    },
    {
      "cell_type": "code",
      "execution_count": 5,
      "metadata": {
        "colab": {
          "base_uri": "https://localhost:8080/"
        },
        "id": "UHgwWSDH02by",
        "outputId": "3324efbe-877f-40e0-eefd-59ad8456ff06"
      },
      "outputs": [
        {
          "name": "stdout",
          "output_type": "stream",
          "text": [
            "    id  rama_id  disciplina_id  tipo_titulo_id  gestion_id  genero_id  \\\n",
            "2    1        1              1               4           1          1   \n",
            "5    2        1              1               4           1          1   \n",
            "8    3        2              2               4           1          2   \n",
            "11   4        2              2               4           1          1   \n",
            "14   5        1              3               4           1          2   \n",
            "\n",
            "    region_id  tamaño_id  letra_id  salario  anio  anioegreso  anionac  \n",
            "2           1        NaN       NaN      NaN  2021        2017   1976.0  \n",
            "5           2        NaN       NaN      NaN  2021        2018   1980.0  \n",
            "8           1        NaN       NaN      NaN  2021        2018   1987.0  \n",
            "11          1        NaN       NaN      NaN  2021        2017   1985.0  \n",
            "14          2        NaN       NaN      NaN  2021        2017   1970.0  \n"
          ]
        }
      ],
      "source": [
        "df_2021 = df.loc[df['anio'] == 2021]\n",
        "print(df_2021.head())"
      ]
    },
    {
      "attachments": {},
      "cell_type": "markdown",
      "metadata": {
        "id": "FnwE6X8p08nU"
      },
      "source": [
        "¿Cuál es el tamaño del nuevo dataframe? Considere ahora que cada línea pertenece a una persona particular."
      ]
    },
    {
      "cell_type": "code",
      "execution_count": 6,
      "metadata": {
        "colab": {
          "base_uri": "https://localhost:8080/"
        },
        "id": "TB6lKtUK07_a",
        "outputId": "3e8545cc-0118-4734-b5cd-0ac1f6b1e859"
      },
      "outputs": [
        {
          "data": {
            "text/plain": [
              "(273445, 13)"
            ]
          },
          "execution_count": 6,
          "metadata": {},
          "output_type": "execute_result"
        }
      ],
      "source": [
        "df_2021.shape\n",
        "\n",
        "# El tamaño del df 2021 es de 251274 filas"
      ]
    },
    {
      "attachments": {},
      "cell_type": "markdown",
      "metadata": {
        "id": "cJSonxsv5Hvy"
      },
      "source": [
        "De ahora en más continuaremos trabajando con el dataframe de 2021.\n",
        "\n",
        "Haga un análisis rápido del dataframe. ¿Cuántas observaciones tiene cada columna, el valor promedio, desvío, el valor mínimo, etc?"
      ]
    },
    {
      "cell_type": "code",
      "execution_count": 7,
      "metadata": {
        "colab": {
          "base_uri": "https://localhost:8080/",
          "height": 364
        },
        "id": "0DhQNmHPdobt",
        "outputId": "22595212-5535-43ac-d1f1-727c176b71f8"
      },
      "outputs": [
        {
          "data": {
            "text/html": [
              "<div>\n",
              "<style scoped>\n",
              "    .dataframe tbody tr th:only-of-type {\n",
              "        vertical-align: middle;\n",
              "    }\n",
              "\n",
              "    .dataframe tbody tr th {\n",
              "        vertical-align: top;\n",
              "    }\n",
              "\n",
              "    .dataframe thead th {\n",
              "        text-align: right;\n",
              "    }\n",
              "</style>\n",
              "<table border=\"1\" class=\"dataframe\">\n",
              "  <thead>\n",
              "    <tr style=\"text-align: right;\">\n",
              "      <th></th>\n",
              "      <th>id</th>\n",
              "      <th>rama_id</th>\n",
              "      <th>disciplina_id</th>\n",
              "      <th>tipo_titulo_id</th>\n",
              "      <th>gestion_id</th>\n",
              "      <th>genero_id</th>\n",
              "      <th>region_id</th>\n",
              "      <th>tamaño_id</th>\n",
              "      <th>letra_id</th>\n",
              "      <th>salario</th>\n",
              "      <th>anio</th>\n",
              "      <th>anioegreso</th>\n",
              "      <th>anionac</th>\n",
              "    </tr>\n",
              "  </thead>\n",
              "  <tbody>\n",
              "    <tr>\n",
              "      <th>count</th>\n",
              "      <td>273445.000000</td>\n",
              "      <td>273445.000000</td>\n",
              "      <td>273445.000000</td>\n",
              "      <td>273445.000000</td>\n",
              "      <td>273445.000000</td>\n",
              "      <td>273445.000000</td>\n",
              "      <td>273445.000000</td>\n",
              "      <td>162917.000000</td>\n",
              "      <td>162860.000000</td>\n",
              "      <td>1.629170e+05</td>\n",
              "      <td>273445.0</td>\n",
              "      <td>273445.000000</td>\n",
              "      <td>273049.000000</td>\n",
              "    </tr>\n",
              "    <tr>\n",
              "      <th>mean</th>\n",
              "      <td>136723.000000</td>\n",
              "      <td>2.150261</td>\n",
              "      <td>10.421990</td>\n",
              "      <td>2.751793</td>\n",
              "      <td>1.208930</td>\n",
              "      <td>1.395619</td>\n",
              "      <td>2.811487</td>\n",
              "      <td>3.593769</td>\n",
              "      <td>8.260488</td>\n",
              "      <td>1.459046e+05</td>\n",
              "      <td>2021.0</td>\n",
              "      <td>2017.138968</td>\n",
              "      <td>1986.687338</td>\n",
              "    </tr>\n",
              "    <tr>\n",
              "      <th>std</th>\n",
              "      <td>78936.916517</td>\n",
              "      <td>1.198290</td>\n",
              "      <td>8.207475</td>\n",
              "      <td>0.704809</td>\n",
              "      <td>0.406545</td>\n",
              "      <td>0.488984</td>\n",
              "      <td>1.675058</td>\n",
              "      <td>0.806771</td>\n",
              "      <td>5.695679</td>\n",
              "      <td>1.292888e+05</td>\n",
              "      <td>0.0</td>\n",
              "      <td>0.802212</td>\n",
              "      <td>7.905726</td>\n",
              "    </tr>\n",
              "    <tr>\n",
              "      <th>min</th>\n",
              "      <td>1.000000</td>\n",
              "      <td>1.000000</td>\n",
              "      <td>1.000000</td>\n",
              "      <td>1.000000</td>\n",
              "      <td>1.000000</td>\n",
              "      <td>1.000000</td>\n",
              "      <td>1.000000</td>\n",
              "      <td>1.000000</td>\n",
              "      <td>1.000000</td>\n",
              "      <td>1.000000e-02</td>\n",
              "      <td>2021.0</td>\n",
              "      <td>2016.000000</td>\n",
              "      <td>1940.000000</td>\n",
              "    </tr>\n",
              "    <tr>\n",
              "      <th>25%</th>\n",
              "      <td>68362.000000</td>\n",
              "      <td>1.000000</td>\n",
              "      <td>3.000000</td>\n",
              "      <td>3.000000</td>\n",
              "      <td>1.000000</td>\n",
              "      <td>1.000000</td>\n",
              "      <td>2.000000</td>\n",
              "      <td>4.000000</td>\n",
              "      <td>2.000000</td>\n",
              "      <td>7.850309e+04</td>\n",
              "      <td>2021.0</td>\n",
              "      <td>2016.000000</td>\n",
              "      <td>1984.000000</td>\n",
              "    </tr>\n",
              "    <tr>\n",
              "      <th>50%</th>\n",
              "      <td>136723.000000</td>\n",
              "      <td>2.000000</td>\n",
              "      <td>9.000000</td>\n",
              "      <td>3.000000</td>\n",
              "      <td>1.000000</td>\n",
              "      <td>1.000000</td>\n",
              "      <td>3.000000</td>\n",
              "      <td>4.000000</td>\n",
              "      <td>10.000000</td>\n",
              "      <td>1.193044e+05</td>\n",
              "      <td>2021.0</td>\n",
              "      <td>2017.000000</td>\n",
              "      <td>1989.000000</td>\n",
              "    </tr>\n",
              "    <tr>\n",
              "      <th>75%</th>\n",
              "      <td>205084.000000</td>\n",
              "      <td>3.000000</td>\n",
              "      <td>18.000000</td>\n",
              "      <td>3.000000</td>\n",
              "      <td>1.000000</td>\n",
              "      <td>2.000000</td>\n",
              "      <td>3.000000</td>\n",
              "      <td>4.000000</td>\n",
              "      <td>13.000000</td>\n",
              "      <td>1.818517e+05</td>\n",
              "      <td>2021.0</td>\n",
              "      <td>2018.000000</td>\n",
              "      <td>1992.000000</td>\n",
              "    </tr>\n",
              "    <tr>\n",
              "      <th>max</th>\n",
              "      <td>273445.000000</td>\n",
              "      <td>6.000000</td>\n",
              "      <td>38.000000</td>\n",
              "      <td>4.000000</td>\n",
              "      <td>2.000000</td>\n",
              "      <td>2.000000</td>\n",
              "      <td>7.000000</td>\n",
              "      <td>4.000000</td>\n",
              "      <td>20.000000</td>\n",
              "      <td>8.444075e+06</td>\n",
              "      <td>2021.0</td>\n",
              "      <td>2018.000000</td>\n",
              "      <td>1999.000000</td>\n",
              "    </tr>\n",
              "  </tbody>\n",
              "</table>\n",
              "</div>"
            ],
            "text/plain": [
              "                  id        rama_id  disciplina_id  tipo_titulo_id  \\\n",
              "count  273445.000000  273445.000000  273445.000000   273445.000000   \n",
              "mean   136723.000000       2.150261      10.421990        2.751793   \n",
              "std     78936.916517       1.198290       8.207475        0.704809   \n",
              "min         1.000000       1.000000       1.000000        1.000000   \n",
              "25%     68362.000000       1.000000       3.000000        3.000000   \n",
              "50%    136723.000000       2.000000       9.000000        3.000000   \n",
              "75%    205084.000000       3.000000      18.000000        3.000000   \n",
              "max    273445.000000       6.000000      38.000000        4.000000   \n",
              "\n",
              "          gestion_id      genero_id      region_id      tamaño_id  \\\n",
              "count  273445.000000  273445.000000  273445.000000  162917.000000   \n",
              "mean        1.208930       1.395619       2.811487       3.593769   \n",
              "std         0.406545       0.488984       1.675058       0.806771   \n",
              "min         1.000000       1.000000       1.000000       1.000000   \n",
              "25%         1.000000       1.000000       2.000000       4.000000   \n",
              "50%         1.000000       1.000000       3.000000       4.000000   \n",
              "75%         1.000000       2.000000       3.000000       4.000000   \n",
              "max         2.000000       2.000000       7.000000       4.000000   \n",
              "\n",
              "            letra_id       salario      anio     anioegreso        anionac  \n",
              "count  162860.000000  1.629170e+05  273445.0  273445.000000  273049.000000  \n",
              "mean        8.260488  1.459046e+05    2021.0    2017.138968    1986.687338  \n",
              "std         5.695679  1.292888e+05       0.0       0.802212       7.905726  \n",
              "min         1.000000  1.000000e-02    2021.0    2016.000000    1940.000000  \n",
              "25%         2.000000  7.850309e+04    2021.0    2016.000000    1984.000000  \n",
              "50%        10.000000  1.193044e+05    2021.0    2017.000000    1989.000000  \n",
              "75%        13.000000  1.818517e+05    2021.0    2018.000000    1992.000000  \n",
              "max        20.000000  8.444075e+06    2021.0    2018.000000    1999.000000  "
            ]
          },
          "execution_count": 7,
          "metadata": {},
          "output_type": "execute_result"
        }
      ],
      "source": [
        "df_2021.describe()"
      ]
    },
    {
      "attachments": {},
      "cell_type": "markdown",
      "metadata": {
        "id": "paxl0TF551fA"
      },
      "source": [
        "En la metodología vemos que la variable salario constituye la remuneración bruta en pesos corrientes correspondiente al mes de noviembre. Este campo solo aparece en el caso de que la persona aparezca en el SIPA en el año de referencia. Si la persona apareciera en el SIPA en 2019 pero no en 2020 y 2021, los campos ligados a la situación ocupacional aparecerían en blanco (esto no significa que la persona no haya trabajado en esos años, sino que no lo hicieron como\n",
        "asalariadas formales)."
      ]
    },
    {
      "attachments": {},
      "cell_type": "markdown",
      "metadata": {
        "id": "VtXWMprFvIs0"
      },
      "source": [
        "Muestre la media, el valor mínimo, máximo y la mediana de los salarios utilizando la librería numpy.\n",
        "\n",
        "Para esto, no utilice las funciones comunes de np.mean, np.max, etc. Utilice la función np.nanmean, np.nanmax, np.nanmin y np.nanmedian que van a excluir a todos los valores en blanco. \n",
        "Ej: https://numpy.org/doc/stable/reference/generated/numpy.nanmean.html"
      ]
    },
    {
      "cell_type": "code",
      "execution_count": 8,
      "metadata": {
        "colab": {
          "base_uri": "https://localhost:8080/"
        },
        "id": "baUfGgHQvVtx",
        "outputId": "dcabe30c-0117-4421-99ce-e1e188525510"
      },
      "outputs": [
        {
          "name": "stdout",
          "output_type": "stream",
          "text": [
            "La media es: 99769.27818223694 , la mediana es 76264.422, el minimo es 0.0099999998 y, el máximo 9518290.0 \n"
          ]
        }
      ],
      "source": [
        "salarios = df['salario'].to_numpy()\n",
        "\n",
        "print(f\"La media es: {np.nanmean(salarios)} , la mediana es {np.nanmedian(salarios)}, el minimo es {np.nanmin(salarios)} y, el máximo {np.nanmax(salarios)} \")\n"
      ]
    },
    {
      "attachments": {},
      "cell_type": "markdown",
      "metadata": {
        "id": "enMSD4dGw41h"
      },
      "source": [
        "### Analizando el género "
      ]
    },
    {
      "attachments": {},
      "cell_type": "markdown",
      "metadata": {
        "id": "paWLFNiw_GQD"
      },
      "source": [
        "Grafique la columna genero_id considerando que los valores son:\n",
        "* 1: Mujer\n",
        "* 2: Varón\n",
        "\n",
        "¿Cómo se encuentran distribuidas estas categorías? Haga un gráfico que lo muestre."
      ]
    },
    {
      "cell_type": "code",
      "execution_count": 24,
      "metadata": {
        "colab": {
          "base_uri": "https://localhost:8080/",
          "height": 472
        },
        "id": "B8NtMQLh96Y7",
        "outputId": "466a02c8-637c-489d-956b-70ac33f809fd"
      },
      "outputs": [
        {
          "data": {
            "text/plain": [
              "<BarContainer object of 2 artists>"
            ]
          },
          "execution_count": 24,
          "metadata": {},
          "output_type": "execute_result"
        },
        {
          "data": {
            "image/png": "[encoded data removed]",
            "text/plain": [
              "<Figure size 432x288 with 1 Axes>"
            ]
          },
          "metadata": {
            "needs_background": "light"
          },
          "output_type": "display_data"
        }
      ],
      "source": [
        "\n",
        "distribucion_genero = df['genero_id'].value_counts()\n",
        "categorias = ['Mujer', 'Varón']\n",
        "valores = [distribucion_genero[1], distribucion_genero[2]]\n",
        "\n",
        "plt.xlabel('Género')\n",
        "plt.ylabel('Cantidad')\n",
        "plt.title('Distribución de género')\n",
        "\n",
        "plt.xlabel('Género')\n",
        "plt.ylabel('Cantidad')\n",
        "plt.title('Distribución de género')\n",
        "\n",
        "plt.bar(categorias, valores)\n",
        "\n",
        "\n",
        "\n"
      ]
    },
    {
      "attachments": {},
      "cell_type": "markdown",
      "metadata": {
        "id": "QTCI8LcqvpXh"
      },
      "source": [
        "### Leer el diccionario de variables"
      ]
    },
    {
      "attachments": {},
      "cell_type": "markdown",
      "metadata": {
        "id": "XNOSMoYevuu7"
      },
      "source": [
        "En el caso anterior es fácil trabajar con la variable de género porque son solo dos valores. Pero cuando tenemos más códigos vamos a necesitar conocer qué variables utilizamos.\n",
        "\n",
        "Para eso vamos a leer algunas variables del diccionario para trabajar más facilmente con ellas. Para eso vamos a leer algunas hojas del archivo diccionario.xlsx. Por default va a leer la primera hoja y no el resto.\n",
        "\n",
        "¿Cómo aclaramos qué hoja queremos leer? Agregando la variable sheet_name con el nombre como se ve a continuación.\n",
        "\n"
      ]
    },
    {
      "cell_type": "code",
      "execution_count": 13,
      "metadata": {
        "colab": {
          "base_uri": "https://localhost:8080/",
          "height": 206
        },
        "id": "3deg6i25vuaf",
        "outputId": "e8a93395-de41-4cfc-c7ef-4a29a150940f"
      },
      "outputs": [
        {
          "data": {
            "text/html": [
              "<div>\n",
              "<style scoped>\n",
              "    .dataframe tbody tr th:only-of-type {\n",
              "        vertical-align: middle;\n",
              "    }\n",
              "\n",
              "    .dataframe tbody tr th {\n",
              "        vertical-align: top;\n",
              "    }\n",
              "\n",
              "    .dataframe thead th {\n",
              "        text-align: right;\n",
              "    }\n",
              "</style>\n",
              "<table border=\"1\" class=\"dataframe\">\n",
              "  <thead>\n",
              "    <tr style=\"text-align: right;\">\n",
              "      <th></th>\n",
              "      <th>rama</th>\n",
              "      <th>rama_id</th>\n",
              "    </tr>\n",
              "  </thead>\n",
              "  <tbody>\n",
              "    <tr>\n",
              "      <th>0</th>\n",
              "      <td>Ciencias Sociales</td>\n",
              "      <td>1</td>\n",
              "    </tr>\n",
              "    <tr>\n",
              "      <th>1</th>\n",
              "      <td>Ciencias Aplicadas</td>\n",
              "      <td>2</td>\n",
              "    </tr>\n",
              "    <tr>\n",
              "      <th>2</th>\n",
              "      <td>Ciencias de la Salud</td>\n",
              "      <td>3</td>\n",
              "    </tr>\n",
              "    <tr>\n",
              "      <th>3</th>\n",
              "      <td>Ciencias Humanas</td>\n",
              "      <td>4</td>\n",
              "    </tr>\n",
              "    <tr>\n",
              "      <th>4</th>\n",
              "      <td>Ciencias Básicas</td>\n",
              "      <td>5</td>\n",
              "    </tr>\n",
              "  </tbody>\n",
              "</table>\n",
              "</div>"
            ],
            "text/plain": [
              "                   rama  rama_id\n",
              "0     Ciencias Sociales        1\n",
              "1    Ciencias Aplicadas        2\n",
              "2  Ciencias de la Salud        3\n",
              "3      Ciencias Humanas        4\n",
              "4      Ciencias Básicas        5"
            ]
          },
          "execution_count": 13,
          "metadata": {},
          "output_type": "execute_result"
        }
      ],
      "source": [
        "\n",
        "nombre_hoja = \"cod_rama\"\n",
        "rama_df = pd.read_excel('diccionario.xlsx', sheet_name=nombre_hoja)\n",
        "\n",
        "rama_df.head()"
      ]
    },
    {
      "attachments": {},
      "cell_type": "markdown",
      "metadata": {
        "id": "BUvRWDaJxo3p"
      },
      "source": [
        "Ahora que tenemos nuestro código de ramas vamos a mergear la base de araucano (df) con el dataframe de ramas."
      ]
    },
    {
      "cell_type": "code",
      "execution_count": 14,
      "metadata": {
        "colab": {
          "base_uri": "https://localhost:8080/",
          "height": 357
        },
        "id": "Yf_94o85wsmC",
        "outputId": "7b6c5b45-fab9-49c5-e09a-084a64847cb6"
      },
      "outputs": [
        {
          "data": {
            "text/html": [
              "<div>\n",
              "<style scoped>\n",
              "    .dataframe tbody tr th:only-of-type {\n",
              "        vertical-align: middle;\n",
              "    }\n",
              "\n",
              "    .dataframe tbody tr th {\n",
              "        vertical-align: top;\n",
              "    }\n",
              "\n",
              "    .dataframe thead th {\n",
              "        text-align: right;\n",
              "    }\n",
              "</style>\n",
              "<table border=\"1\" class=\"dataframe\">\n",
              "  <thead>\n",
              "    <tr style=\"text-align: right;\">\n",
              "      <th></th>\n",
              "      <th>id</th>\n",
              "      <th>rama_id</th>\n",
              "      <th>disciplina_id</th>\n",
              "      <th>tipo_titulo_id</th>\n",
              "      <th>gestion_id</th>\n",
              "      <th>genero_id</th>\n",
              "      <th>region_id</th>\n",
              "      <th>tamaño_id</th>\n",
              "      <th>letra_id</th>\n",
              "      <th>salario</th>\n",
              "      <th>anio</th>\n",
              "      <th>anioegreso</th>\n",
              "      <th>anionac</th>\n",
              "    </tr>\n",
              "  </thead>\n",
              "  <tbody>\n",
              "    <tr>\n",
              "      <th>0</th>\n",
              "      <td>1</td>\n",
              "      <td>Ciencias Sociales</td>\n",
              "      <td>1</td>\n",
              "      <td>4</td>\n",
              "      <td>1</td>\n",
              "      <td>1</td>\n",
              "      <td>1</td>\n",
              "      <td>NaN</td>\n",
              "      <td>NaN</td>\n",
              "      <td>NaN</td>\n",
              "      <td>2019</td>\n",
              "      <td>2017</td>\n",
              "      <td>1976.0</td>\n",
              "    </tr>\n",
              "    <tr>\n",
              "      <th>1</th>\n",
              "      <td>1</td>\n",
              "      <td>Ciencias Sociales</td>\n",
              "      <td>1</td>\n",
              "      <td>4</td>\n",
              "      <td>1</td>\n",
              "      <td>1</td>\n",
              "      <td>1</td>\n",
              "      <td>NaN</td>\n",
              "      <td>NaN</td>\n",
              "      <td>NaN</td>\n",
              "      <td>2020</td>\n",
              "      <td>2017</td>\n",
              "      <td>1976.0</td>\n",
              "    </tr>\n",
              "    <tr>\n",
              "      <th>2</th>\n",
              "      <td>1</td>\n",
              "      <td>Ciencias Sociales</td>\n",
              "      <td>1</td>\n",
              "      <td>4</td>\n",
              "      <td>1</td>\n",
              "      <td>1</td>\n",
              "      <td>1</td>\n",
              "      <td>NaN</td>\n",
              "      <td>NaN</td>\n",
              "      <td>NaN</td>\n",
              "      <td>2021</td>\n",
              "      <td>2017</td>\n",
              "      <td>1976.0</td>\n",
              "    </tr>\n",
              "    <tr>\n",
              "      <th>3</th>\n",
              "      <td>2</td>\n",
              "      <td>Ciencias Sociales</td>\n",
              "      <td>1</td>\n",
              "      <td>4</td>\n",
              "      <td>1</td>\n",
              "      <td>1</td>\n",
              "      <td>2</td>\n",
              "      <td>NaN</td>\n",
              "      <td>NaN</td>\n",
              "      <td>NaN</td>\n",
              "      <td>2019</td>\n",
              "      <td>2018</td>\n",
              "      <td>1980.0</td>\n",
              "    </tr>\n",
              "    <tr>\n",
              "      <th>4</th>\n",
              "      <td>2</td>\n",
              "      <td>Ciencias Sociales</td>\n",
              "      <td>1</td>\n",
              "      <td>4</td>\n",
              "      <td>1</td>\n",
              "      <td>1</td>\n",
              "      <td>2</td>\n",
              "      <td>NaN</td>\n",
              "      <td>NaN</td>\n",
              "      <td>NaN</td>\n",
              "      <td>2020</td>\n",
              "      <td>2018</td>\n",
              "      <td>1980.0</td>\n",
              "    </tr>\n",
              "  </tbody>\n",
              "</table>\n",
              "</div>"
            ],
            "text/plain": [
              "   id            rama_id  disciplina_id  tipo_titulo_id  gestion_id  \\\n",
              "0   1  Ciencias Sociales              1               4           1   \n",
              "1   1  Ciencias Sociales              1               4           1   \n",
              "2   1  Ciencias Sociales              1               4           1   \n",
              "3   2  Ciencias Sociales              1               4           1   \n",
              "4   2  Ciencias Sociales              1               4           1   \n",
              "\n",
              "   genero_id  region_id  tamaño_id  letra_id  salario  anio  anioegreso  \\\n",
              "0          1          1        NaN       NaN      NaN  2019        2017   \n",
              "1          1          1        NaN       NaN      NaN  2020        2017   \n",
              "2          1          1        NaN       NaN      NaN  2021        2017   \n",
              "3          1          2        NaN       NaN      NaN  2019        2018   \n",
              "4          1          2        NaN       NaN      NaN  2020        2018   \n",
              "\n",
              "   anionac  \n",
              "0   1976.0  \n",
              "1   1976.0  \n",
              "2   1976.0  \n",
              "3   1980.0  \n",
              "4   1980.0  "
            ]
          },
          "execution_count": 14,
          "metadata": {},
          "output_type": "execute_result"
        }
      ],
      "source": [
        "\n",
        "ramas = dict(rama_df[['rama_id', 'rama']].values)\n",
        "df['rama_id'] = df['rama_id'].map(ramas)\n",
        "df.head()"
      ]
    },
    {
      "attachments": {},
      "cell_type": "markdown",
      "metadata": {
        "id": "012FhYLnx-sh"
      },
      "source": [
        "### ¿Cuántos egresados hay por rama?\n",
        "\n",
        "Agrupe por rama y mire la cantidad de egresados de cada una. Es decir, cuántos egresados hay de Ciencias Sociales, cuántos de Ciencias Aplicadas, etc.\n",
        "\n",
        "Para esto utilice dos funciones distintas para llegar al mismo resultado."
      ]
    },
    {
      "cell_type": "code",
      "execution_count": 15,
      "metadata": {
        "colab": {
          "base_uri": "https://localhost:8080/"
        },
        "id": "e_5biSAax6FP",
        "outputId": "fd4f5b67-4d97-43c9-a8a2-7612fca1403d"
      },
      "outputs": [
        {
          "name": "stdout",
          "output_type": "stream",
          "text": [
            "Ciencias Sociales       336204\n",
            "Ciencias Aplicadas      192783\n",
            "Ciencias de la Salud    151791\n",
            "Ciencias Humanas        114693\n",
            "Ciencias Básicas         21165\n",
            "Sin Rama                  3699\n",
            "Name: rama_id, dtype: int64\n"
          ]
        }
      ],
      "source": [
        "print(df['rama_id'].value_counts())\n",
        "\n"
      ]
    },
    {
      "cell_type": "code",
      "execution_count": 16,
      "metadata": {
        "colab": {
          "base_uri": "https://localhost:8080/"
        },
        "id": "cvGklXpGx52d",
        "outputId": "4f2e717b-7742-4609-bd4a-effb30aa22dc"
      },
      "outputs": [
        {
          "name": "stdout",
          "output_type": "stream",
          "text": [
            "rama_id\n",
            "Ciencias Aplicadas      192783\n",
            "Ciencias Básicas         21165\n",
            "Ciencias Humanas        114693\n",
            "Ciencias Sociales       336204\n",
            "Ciencias de la Salud    151791\n",
            "Sin Rama                  3699\n",
            "dtype: int64\n"
          ]
        }
      ],
      "source": [
        "print(df.groupby('rama_id').size())"
      ]
    },
    {
      "attachments": {},
      "cell_type": "markdown",
      "metadata": {
        "id": "FYs4nBKa_mWt"
      },
      "source": [
        "### Año de nacimiento\n"
      ]
    },
    {
      "attachments": {},
      "cell_type": "markdown",
      "metadata": {
        "id": "nxYC8-pn2e1x"
      },
      "source": [
        "Muestre algunas métricas descriptivas de la variable de año de nacimiento."
      ]
    },
    {
      "cell_type": "code",
      "execution_count": 17,
      "metadata": {
        "colab": {
          "base_uri": "https://localhost:8080/"
        },
        "id": "R3PwRuJE16NI",
        "outputId": "06ac3fee-8fd9-4e4a-ce24-1bd2c64ef0a7"
      },
      "outputs": [
        {
          "data": {
            "text/plain": [
              "count    819147.000000\n",
              "mean       1986.687338\n",
              "std           7.905716\n",
              "min        1940.000000\n",
              "25%        1984.000000\n",
              "50%        1989.000000\n",
              "75%        1992.000000\n",
              "max        1999.000000\n",
              "Name: anionac, dtype: float64"
            ]
          },
          "execution_count": 17,
          "metadata": {},
          "output_type": "execute_result"
        }
      ],
      "source": [
        "df['anionac'].describe()\n",
        "\n",
        "\n"
      ]
    },
    {
      "attachments": {},
      "cell_type": "markdown",
      "metadata": {
        "id": "ElhT42eP2cql"
      },
      "source": [
        "Ahora grafique un histograma del año de nacimiento de las personas de la base."
      ]
    },
    {
      "cell_type": "code",
      "execution_count": 18,
      "metadata": {
        "colab": {
          "base_uri": "https://localhost:8080/",
          "height": 472
        },
        "id": "ubAIyrdu2MPF",
        "outputId": "adb72311-6a6b-4ff0-de66-bb30477b260b"
      },
      "outputs": [
        {
          "data": {
            "image/png": "[encoded data removed]",
            "text/plain": [
              "<Figure size 432x288 with 1 Axes>"
            ]
          },
          "metadata": {
            "needs_background": "light"
          },
          "output_type": "display_data"
        }
      ],
      "source": [
        "\n",
        "plt.hist(df['anionac'])\n",
        "plt.title('Año de Nacimiento')\n",
        "plt.xlabel('Año')\n",
        "plt.ylabel('N')\n",
        "plt.show()"
      ]
    },
    {
      "attachments": {},
      "cell_type": "markdown",
      "metadata": {
        "id": "GMJV0aoE_83E"
      },
      "source": [
        "*Punto bonus*\n",
        "\n",
        "Ahora, sabiendo cómo filtrar el dataframe por género grafique en un histograma la edad de ambos grupos, en dos colores distintos. Para esto considere lo siguiente:\n",
        "* Con el parámetro color puede cambiar el color de los bins. Ej: color = 'red' cambiará el histograma a rojo.\n",
        "* Ejemplos de histogramas con dos series distintas: https://www.geeksforgeeks.org/overlapping-histograms-with-matplotlib-in-python/"
      ]
    },
    {
      "cell_type": "code",
      "execution_count": 19,
      "metadata": {
        "colab": {
          "base_uri": "https://localhost:8080/",
          "height": 472
        },
        "id": "DepZ7BRZn3KX",
        "outputId": "1cbf3ad7-d1ad-4b83-e166-011e9b2e1ea2"
      },
      "outputs": [
        {
          "data": {
            "image/png": "[encoded data removed]",
            "text/plain": [
              "<Figure size 432x288 with 1 Axes>"
            ]
          },
          "metadata": {
            "needs_background": "light"
          },
          "output_type": "display_data"
        }
      ],
      "source": [
        "df['edad'] = 2023 - df['anionac']\n",
        "#filtro\n",
        "df_1 = df[df['genero_id'] == 1]  # Mujer\n",
        "df_2 = df[df['genero_id'] == 2]  # Varón\n",
        "\n",
        "#grafico\n",
        "plt.hist(df_1['edad'], color='pink')\n",
        "plt.hist(df_2['edad'], color= 'blue')\n",
        "plt.title('Edad por Género')\n",
        "plt.xlabel('Edad')\n",
        "plt.ylabel('Frecuencia')\n",
        "plt.show()"
      ]
    },
    {
      "attachments": {},
      "cell_type": "markdown",
      "metadata": {
        "id": "3a2nJmpJ206M"
      },
      "source": [
        "### Año de nacimiento y rama estudiada"
      ]
    },
    {
      "attachments": {},
      "cell_type": "markdown",
      "metadata": {
        "id": "wVG5NoCd5ByH"
      },
      "source": [
        "Ahora vamos a ver si hay alguna diferencia en los años de nacimiento de aquellos que decidieron estudiar Ciencias Sociales y aquellos que decidieron estudiar Ciencias Aplicadas."
      ]
    },
    {
      "attachments": {},
      "cell_type": "markdown",
      "metadata": {
        "id": "QHsCipGP5LAB"
      },
      "source": [
        "Para eso, puede utilizar algún gráfico que muestre por separado a los egresados de Ciencias Sociales y Ciencias Aplicadas según año de nacimiento y compararlos.\n",
        "\n",
        "O también puede agrupar estos datos según las ramas y ver cuál es el año de nacimiento que tiene mayores inscriptos en uno y en otro y cuál el menor y ver alguna diferencia allí."
      ]
    },
    {
      "cell_type": "code",
      "execution_count": 20,
      "metadata": {
        "colab": {
          "base_uri": "https://localhost:8080/",
          "height": 430
        },
        "id": "EQ7M6wT63mpk",
        "outputId": "c25c8018-b75f-4bfc-9138-044a56428623"
      },
      "outputs": [
        {
          "data": {
            "image/png": "[encoded data removed]",
            "text/plain": [
              "<Figure size 432x288 with 1 Axes>"
            ]
          },
          "metadata": {
            "needs_background": "light"
          },
          "output_type": "display_data"
        }
      ],
      "source": [
        "\n",
        "# filtro\n",
        "cs_sociales = df[df['rama_id'] == 'Ciencias Sociales']\n",
        "cs_aplicadas = df[df['rama_id'] == 'Ciencias Aplicadas']\n",
        "# Grafico\n",
        "sociales= cs_sociales['anionac'].value_counts().sort_index()\n",
        "aplicadas = cs_aplicadas['anionac'].value_counts().sort_index()\n",
        "plt.plot(sociales.index, sociales.values, label='Cs. Sociales')\n",
        "plt.plot(aplicadas.index, aplicadas.values, label='Cs. Aplicadas')\n",
        "plt.legend()\n",
        "plt.show()"
      ]
    },
    {
      "cell_type": "code",
      "execution_count": 21,
      "metadata": {
        "colab": {
          "base_uri": "https://localhost:8080/"
        },
        "id": "5muQuxAYVj9R",
        "outputId": "08625b6f-c683-45a3-81c5-be079d2cc4b8"
      },
      "outputs": [
        {
          "data": {
            "text/plain": [
              "rama_id             anionac\n",
              "Ciencias Aplicadas  1942.0         9\n",
              "                    1944.0         3\n",
              "                    1945.0        30\n",
              "                    1946.0         6\n",
              "                    1947.0         6\n",
              "                               ...  \n",
              "Ciencias Sociales   1995.0     13917\n",
              "                    1996.0      7488\n",
              "                    1997.0      3027\n",
              "                    1998.0       900\n",
              "                    1999.0       405\n",
              "Length: 116, dtype: int64"
            ]
          },
          "execution_count": 21,
          "metadata": {},
          "output_type": "execute_result"
        }
      ],
      "source": [
        "df_filtro = df[df['rama_id'].isin(['Ciencias Sociales', 'Ciencias Aplicadas'])]\n",
        "df_filtro.groupby(['rama_id', 'anionac']).size()"
      ]
    }
  ],
  "metadata": {
    "colab": {
      "provenance": []
    },
    "kernelspec": {
      "display_name": "Python 3",
      "name": "python3"
    },
    "language_info": {
      "name": "python"
    }
  },
  "nbformat": 4,
  "nbformat_minor": 0
}
